{
 "cells": [
  {
   "cell_type": "code",
   "execution_count": null,
   "metadata": {},
   "outputs": [],
   "source": [
    "# Download dependencies\n",
    "!pip3 install pandas\n",
    "!pip3 install matplotlib\n",
    "!pip3 install adjustText"
   ]
  },
  {
   "attachments": {},
   "cell_type": "markdown",
   "metadata": {},
   "source": [
    "# Generate graph from the actual results"
   ]
  },
  {
   "cell_type": "code",
   "execution_count": null,
   "metadata": {},
   "outputs": [],
   "source": [
    "import pandas as pd\n",
    "import matplotlib.pyplot as plt\n",
    "from adjustText import adjust_text\n",
    "from matplotlib import rcParams\n",
    "\n",
    "rcParams.update({'font.size': 18})\n",
    "rcParams['font.family'] = 'Times New Roman'\n",
    "texts = []\n",
    "data = pd.read_csv(\"../results-march-2023/metrics/graphData.csv\")\n",
    "text = [\"cdx\",\"depscan\",\"jbom\",\"cdx-mp\", \"or\",\"big\"]\n",
    "data.shape\n",
    "data.head()\n",
    "g1 = data\n",
    "D_P = g1['D_P']\n",
    "D_R = g1['D_R']\n",
    "T_P = g1['T_P']\n",
    "T_R = g1['T_R']\n",
    "fig = plt.figure()\n",
    "fig, ax1 = plt.subplots(1, sharex=True, sharey=True)\n",
    "ax1.scatter(D_P,D_R, c='b', marker='x')\n",
    "ax1.scatter(T_P,T_R, c='r')\n",
    "plt.xlabel('Precision in [%]', fontsize=14)\n",
    "plt.ylabel('Recall in [%]', fontsize=14)\n",
    "plt.ylim([0, 100])\n",
    "plt.xlim([0, 100])\n",
    "# Loop for annotation of all points\n",
    "for i in range(len(D_P)):\n",
    "    texts.append(plt.text(D_P[i], D_R[i], text[i]))\n",
    "for i in range(len(D_P)):\n",
    "    texts.append(plt.text(T_P[i], T_R[i], text[i]))\n",
    "\n",
    "\n",
    "\n",
    "adjust_text(texts,# x=D_P+T_P, y=D_R+T_R, autoalign='x',\n",
    "            #force_points=5,\n",
    "            #force_text=True,\n",
    "            )\n",
    "plt.savefig(\"resultGraphic.pdf\", format=\"pdf\", bbox_inches=\"tight\")\n",
    "plt.show()"
   ]
  }
 ],
 "metadata": {
  "kernelspec": {
   "display_name": "Python 3",
   "language": "python",
   "name": "python3"
  },
  "language_info": {
   "codemirror_mode": {
    "name": "ipython",
    "version": 3
   },
   "file_extension": ".py",
   "mimetype": "text/x-python",
   "name": "python",
   "nbconvert_exporter": "python",
   "pygments_lexer": "ipython3",
   "version": "3.10.6"
  },
  "vscode": {
   "interpreter": {
    "hash": "916dbcbb3f70747c44a77c7bcd40155683ae19c65e1c03b4aa3499c5328201f1"
   }
  }
 },
 "nbformat": 4,
 "nbformat_minor": 2
}
