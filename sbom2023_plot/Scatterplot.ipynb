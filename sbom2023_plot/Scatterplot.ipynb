{
 "cells": [
  {
   "cell_type": "code",
   "execution_count": null,
   "metadata": {},
   "outputs": [],
   "source": [
    "# Download dependencies\n",
    "!pip3 install pandas\n",
    "!pip3 install matplotlib\n",
    "!pip3 install adjustText"
   ]
  },
  {
   "attachments": {},
   "cell_type": "markdown",
   "metadata": {},
   "source": [
    "# Generate graph from the actual results"
   ]
  },
  {
   "cell_type": "code",
   "execution_count": 8,
   "metadata": {},
   "outputs": [
    {
     "data": {
      "text/plain": [
       "<Figure size 640x480 with 0 Axes>"
      ]
     },
     "metadata": {},
     "output_type": "display_data"
    },
    {
     "data": {
      "image/png": "[encoded data removed]",
      "text/plain": [
       "<Figure size 640x480 with 1 Axes>"
      ]
     },
     "metadata": {},
     "output_type": "display_data"
    }
   ],
   "source": [
    "import pandas as pd\n",
    "import matplotlib.pyplot as plt\n",
    "from adjustText import adjust_text\n",
    "from matplotlib import rcParams\n",
    "\n",
    "rcParams.update({'font.size': 18})\n",
    "rcParams['font.family'] = 'Times New Roman'\n",
    "texts = []\n",
    "data = pd.read_csv(\"./resultsssTreeAverageWithoutFailures.csv\")\n",
    "text = [\"cdxgen\",\"ds\",\"jbom\",\"cdx-mp\", \"or\",\"big\"]\n",
    "data.shape\n",
    "data.head()\n",
    "g1 = data\n",
    "D_P = g1['P']\n",
    "D_R = g1['R']\n",
    "fig = plt.figure()\n",
    "fig, ax1 = plt.subplots(1, sharex=True, sharey=True)\n",
    "ax1.scatter(D_P,D_R, c='b', marker='x')\n",
    "plt.xlabel('Precision in [%]', fontsize=14)\n",
    "plt.ylabel('Recall in [%]', fontsize=14)\n",
    "plt.ylim([0, 100])\n",
    "plt.xlim([0, 100])\n",
    "# Loop for annotation of all points\n",
    "for i in range(len(D_P)):\n",
    "    texts.append(plt.text(D_P[i], D_R[i], text[i]))\n",
    "\n",
    "\n",
    "\n",
    "\n",
    "adjust_text(texts,# x=D_P+T_P, y=D_R+T_R, autoalign='x',\n",
    "            #force_points=5,\n",
    "            #force_text=True,\n",
    "            )\n",
    "plt.savefig(\"resultGraphic.pdf\", format=\"pdf\", bbox_inches=\"tight\")\n",
    "plt.show()"
   ]
  },
  {
   "attachments": {},
   "cell_type": "markdown",
   "metadata": {},
   "source": [
    "# Generate Venn diagram from the actual results"
   ]
  },
  {
   "cell_type": "code",
   "execution_count": 32,
   "metadata": {},
   "outputs": [
    {
     "data": {
      "text/plain": [
       "<Figure size 640x480 with 0 Axes>"
      ]
     },
     "metadata": {},
     "output_type": "display_data"
    }
   ],
   "source": [
    "import pandas as pd\n",
    "import numpy as np\n",
    "import matplotlib.pyplot as plt\n",
    "from matplotlib import rcParams\n",
    "import os\n",
    "import matplotlib.pyplot as plt\n",
    "from matplotlib_venn import venn2\n",
    "from itertools import product\n",
    "rcParams.update({'font.size': 18})\n",
    "rcParams['font.family'] = 'Times New Roman'\n",
    "\n",
    "def annotate_regions(venn, titles=None, ax=None, **kwargs):\n",
    "    ax = ax or plt.gca()\n",
    "    titles = titles or list(map(''.join, product('01','01','01')))\n",
    "    kwargs = kwargs or {'bbox': dict(boxstyle='round,pad=0.5', fc='gray', alpha=0.1),\n",
    "                        'arrowprops': dict(arrowstyle='->', connectionstyle='arc3,rad=0.5',color='gray')}\n",
    "\n",
    "    xmin, xmax = ax.get_xlim()\n",
    "    ymin, ymax = ax.get_ylim()\n",
    "\n",
    "    for i in range(1,3):\n",
    "        region = format(i, '#05b')[3:]\n",
    "        print(region)\n",
    "        label = v.get_label_by_id(region)\n",
    "        if not label: continue\n",
    "        ax.annotate(titles[i], \n",
    "                    xy=label.get_position() + np.array([0, 0.05]),\n",
    "                    xytext=(xmax+0.1, ymax-i*0.15),\n",
    "                    ha='left', textcoords='data',\n",
    "                    **kwargs)\n",
    "path = \"./venn\"\n",
    "dirs = os.listdir(path)\n",
    "# Get all sbom producers for every folder\n",
    "for project in dirs:\n",
    "    path = \"./venn/\" + project\n",
    "    producers = os.listdir(path)\n",
    "    truthPath = \"./venn/\" + project + \"/truth.json\"\n",
    "    truth = pd.read_json(truthPath)\n",
    "    truthList = []\n",
    "    for idx,dependency in truth.iterrows():\n",
    "        id = dependency['groupId'] + dependency['artifactId'] + dependency['version']\n",
    "        truthList.append(id)\n",
    "    map = {}\n",
    "    for producer in producers:\n",
    "        if(producer == \"truth.json\"):\n",
    "            continue\n",
    "        path = \"./venn/\" + project + \"/\" + producer\n",
    "        data = pd.read_json(\"./venn/\" + project + \"/\" + producer)\n",
    "        # get json array named truePositives\n",
    "        # create a ID with groupID+artifactID+version for every object in truePositives\n",
    "        list = []\n",
    "        for idx,dependency in data.iterrows():\n",
    "            id = dependency['groupId'] + dependency['artifactId'] + dependency['version']\n",
    "            list.append(id)\n",
    "        # venn it\n",
    "        v = venn2([set(truthList), set(list)], set_labels = ('', \"\"), alpha=0.4, set_colors=('r', 'b'))\n",
    "        v.get_label_by_id('10').set_text(v.get_label_by_id('10').get_text() + \"\\n\" + \"false negatives\")\n",
    "        v.get_label_by_id('01').set_text(v.get_label_by_id('01').get_text()  + \"\\n\" + \"false positives\")\n",
    "        if(v.get_label_by_id('11') != None):\n",
    "            v.get_label_by_id('11').set_text(v.get_label_by_id('11').get_text()  + \"\\n\" + \"correct\")\n",
    "        #annotate_regions(v, titles=['Truth', \"correct\",producer])\n",
    "        ## create dir if not exists\n",
    "        if not os.path.exists(\"./vennResults/\" + project):\n",
    "            os.makedirs(\"./vennResults/\" + project)\n",
    "            # get the position of the text from the venn diagram each region\n",
    "        plt.title(project + \" \" + producer.replace(\".json\",\"\"))\n",
    "        plt.savefig(\"./vennResults/\" + project + \"/\"+ producer+ \".pdf\", format=\"pdf\", bbox_inches=\"tight\")\n",
    "        plt.clf()\n",
    "        # add the list to the map with the key of the producer name      \n",
    "        # Get all sbom producers for every folder "
   ]
  }
 ],
 "metadata": {
  "kernelspec": {
   "display_name": "Python 3",
   "language": "python",
   "name": "python3"
  },
  "language_info": {
   "codemirror_mode": {
    "name": "ipython",
    "version": 3
   },
   "file_extension": ".py",
   "mimetype": "text/x-python",
   "name": "python",
   "nbconvert_exporter": "python",
   "pygments_lexer": "ipython3",
   "version": "3.11.3"
  },
  "vscode": {
   "interpreter": {
    "hash": "916dbcbb3f70747c44a77c7bcd40155683ae19c65e1c03b4aa3499c5328201f1"
   }
  }
 },
 "nbformat": 4,
 "nbformat_minor": 2
}
